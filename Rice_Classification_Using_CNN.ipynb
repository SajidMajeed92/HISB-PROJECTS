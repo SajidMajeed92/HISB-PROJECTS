{
  "cells": [
    {
      "cell_type": "markdown",
      "metadata": {
        "id": "view-in-github",
        "colab_type": "text"
      },
      "source": [
        "<a href=\"https://colab.research.google.com/github/SajidMajeed92/HISB-PROJECTS/blob/main/Rice_Classification_Using_CNN.ipynb\" target=\"_parent\"><img src=\"https://colab.research.google.com/assets/colab-badge.svg\" alt=\"Open In Colab\"/></a>"
      ]
    },
    {
      "cell_type": "markdown",
      "metadata": {
        "id": "c2edf9c7"
      },
      "source": [
        "# <p style=\"background-color:green;font-family:newtimeroman;color:black;font-size:150%;text-align:center;border-radius:10px 10px;\">Rice Classification by using CNN</p>\n",
        "\n",
        "\n",
        "In this study, Arborio, Basmati, Ipsala, Jasmine and Karacadag, which are five different varieties of rice often grown in Turkey, were used. A total of 75,000 grain images, 15,000 from each of these varieties, are included in the dataset. Models were created by using the Convolutional Neural Network (CNN) algorithm for the image dataset, and classification processes were performed. Statistical results of sensitivity, specificity, prediction, F1 score, accuracy, false positive rate and false negative rate were calculated using the confusion matrix values of the models and the results of each model were given in tables. Classification successes from the models were achieved as 99% for CNN.\n",
        "\n",
        "\n",
        "   <a id='top'></a>\n",
        "<div class=\"list-group\" id=\"list-tab\" role=\"tablist\">\n",
        "<p style=\"background-color:green;font-family:newtimeroman;color:black;font-size:150%;text-align:center;border-radius:10px 10px;\">TABLE OF CONTENTS</p>   \n",
        "    \n",
        "* [1. Importing Libraries](#1)\n",
        "    \n",
        "* [2. Preparing Data](#2)\n",
        "    \n",
        "* [3. Build Model](#3)\n",
        "    \n",
        "* [4. Evaluation](#4)   \n",
        "    \n",
        "* [5. END](#5)\n"
      ]
    },
    {
      "cell_type": "code",
      "execution_count": 1,
      "metadata": {
        "colab": {
          "base_uri": "https://localhost:8080/"
        },
        "id": "ZgDisrkzPj8M",
        "outputId": "fa0d1595-579c-4c4b-f27d-10a938373395"
      },
      "outputs": [
        {
          "output_type": "stream",
          "name": "stdout",
          "text": [
            "Mounted at /content/drive\n"
          ]
        }
      ],
      "source": [
        "from google.colab import drive\n",
        "drive.mount('/content/drive')"
      ]
    },
    {
      "cell_type": "code",
      "execution_count": 2,
      "metadata": {
        "id": "7UixH0lePmg9"
      },
      "outputs": [],
      "source": [
        "import os\n",
        "os.environ['KAGGLE_CONFIG_DIR'] = \"/content/drive/My Drive/Kaggle\""
      ]
    },
    {
      "cell_type": "code",
      "source": [
        "!kaggle datasets download -d muratkokludataset/rice-image-dataset"
      ],
      "metadata": {
        "id": "EQCKuPA5YExz"
      },
      "execution_count": null,
      "outputs": []
    },
    {
      "cell_type": "code",
      "source": [
        "!kaggle datasets download -d muratkokludataset/rice-image-dataset --unzip --force"
      ],
      "metadata": {
        "id": "emGqEETkYUW9"
      },
      "execution_count": null,
      "outputs": []
    },
    {
      "cell_type": "code",
      "execution_count": 3,
      "metadata": {
        "id": "0Vy4SYGwPnrU",
        "colab": {
          "base_uri": "https://localhost:8080/"
        },
        "outputId": "3ad55bba-7e94-4d20-bde4-5b0e39b43d0d"
      },
      "outputs": [
        {
          "output_type": "stream",
          "name": "stdout",
          "text": [
            "/content/drive/My Drive/Kaggle\n"
          ]
        }
      ],
      "source": [
        "%cd /content/drive/My Drive/Kaggle"
      ]
    },
    {
      "cell_type": "code",
      "execution_count": 6,
      "metadata": {
        "id": "76xhd01pRfY0",
        "colab": {
          "base_uri": "https://localhost:8080/"
        },
        "outputId": "25ea1257-70e4-4d0a-9a36-df3d9aef4fde"
      },
      "outputs": [
        {
          "output_type": "stream",
          "name": "stdout",
          "text": [
            "Grapevine_Leaves_Image_Dataset\tRice_Image_Dataset  seg_test\n",
            "kaggle.json\t\t\tseg_pred\t    seg_train\n"
          ]
        }
      ],
      "source": [
        "!ls"
      ]
    },
    {
      "cell_type": "markdown",
      "metadata": {
        "id": "1ee0de71"
      },
      "source": [
        "# <p style=\"background-color:green;font-family:newtimeroman;color:black;font-size:150%;text-align:center;border-radius:10px 10px;\">Importing Libraries</p>"
      ]
    },
    {
      "cell_type": "code",
      "execution_count": 7,
      "metadata": {
        "id": "1b8488e9"
      },
      "outputs": [],
      "source": [
        "import numpy as np\n",
        "import pandas as pd\n",
        "import tensorflow as tf\n",
        "from tensorflow import keras\n",
        "from keras.preprocessing.image import ImageDataGenerator\n",
        "from keras.utils import to_categorical\n",
        "from sklearn.model_selection import train_test_split\n",
        "import matplotlib.pyplot as plt\n",
        "import random\n",
        "import pathlib\n",
        "import os"
      ]
    },
    {
      "cell_type": "markdown",
      "metadata": {
        "id": "b1c436ca"
      },
      "source": [
        "# <p style=\"background-color:green;font-family:newtimeroman;color:black;font-size:150%;text-align:center;border-radius:10px 10px;\">Preparing Data</p>"
      ]
    },
    {
      "cell_type": "code",
      "execution_count": 8,
      "metadata": {
        "id": "397c1117",
        "colab": {
          "base_uri": "https://localhost:8080/"
        },
        "outputId": "4ab915aa-cf71-4fd6-999f-29e1fa75d3dd"
      },
      "outputs": [
        {
          "output_type": "stream",
          "name": "stdout",
          "text": [
            "Found 75000 files belonging to 5 classes.\n",
            "Using 60000 files for training.\n",
            "Found 75000 files belonging to 5 classes.\n",
            "Using 15000 files for validation.\n"
          ]
        }
      ],
      "source": [
        "tf.random.set_seed(42)\n",
        "\n",
        "train_data = keras.utils.image_dataset_from_directory('/content/drive/My Drive/Kaggle/Rice_Image_Dataset/',\n",
        "                                                 validation_split = 0.2,\n",
        "                                                        subset = 'training',\n",
        "                                                        seed = 1,\n",
        "                                                        shuffle = True,\n",
        "                                                        batch_size = 32,\n",
        "                                                       image_size=(256,256))\n",
        "test_data = keras.utils.image_dataset_from_directory('/content/drive/My Drive/Kaggle/Rice_Image_Dataset/',\n",
        "                                                       validation_split = 0.2,\n",
        "                                                       subset = 'validation',\n",
        "                                                       seed = 1,\n",
        "                                                       shuffle = True,\n",
        "                                                       batch_size = 32,\n",
        "                                                    image_size=(256,256))"
      ]
    },
    {
      "cell_type": "code",
      "execution_count": 10,
      "metadata": {
        "id": "694f95cf",
        "colab": {
          "base_uri": "https://localhost:8080/"
        },
        "outputId": "c619018c-40cf-4880-bf8a-019604c9a658"
      },
      "outputs": [
        {
          "output_type": "stream",
          "name": "stdout",
          "text": [
            "Arborio : 15000\n",
            "Basmati : 15000\n",
            "Ipsala : 15000\n",
            "Jasmine : 15000\n",
            "Karacadag : 15000\n"
          ]
        }
      ],
      "source": [
        "filenames = pathlib.Path('/content/drive/My Drive/Kaggle/Rice_Image_Dataset/')\n",
        "for label in train_data.class_names :\n",
        "    images = list(filenames.glob(f'{label}/*'))\n",
        "    print(f'{label} : {len(images)}')"
      ]
    },
    {
      "cell_type": "code",
      "execution_count": 9,
      "metadata": {
        "id": "qBA7lInOPRTH",
        "colab": {
          "base_uri": "https://localhost:8080/"
        },
        "outputId": "e0dc9e4e-c9d9-4ed9-c329-fd0f26f2e833"
      },
      "outputs": [
        {
          "output_type": "execute_result",
          "data": {
            "text/plain": [
              "(1875, 469)"
            ]
          },
          "metadata": {},
          "execution_count": 9
        }
      ],
      "source": [
        "train_data.cardinality().numpy(),  test_data.cardinality().numpy() # The equation is: 60000/40 = cardinality, so it depends on your batch size."
      ]
    },
    {
      "cell_type": "code",
      "execution_count": 11,
      "metadata": {
        "id": "2Hrtjy1KPRTH"
      },
      "outputs": [],
      "source": [
        "train_set = train_data.take(1500)\n",
        "val_set = train_data.skip(1500)   #train dataset now has first 1200 elements and the rest goes for val_set"
      ]
    },
    {
      "cell_type": "code",
      "execution_count": 12,
      "metadata": {
        "id": "4KbyM1dRPRTI",
        "colab": {
          "base_uri": "https://localhost:8080/"
        },
        "outputId": "20524d16-a7e4-4d70-8e35-9a3934ee4c71"
      },
      "outputs": [
        {
          "output_type": "execute_result",
          "data": {
            "text/plain": [
              "(1500, 375)"
            ]
          },
          "metadata": {},
          "execution_count": 12
        }
      ],
      "source": [
        "train_set.cardinality().numpy(), val_set.cardinality().numpy()"
      ]
    },
    {
      "cell_type": "code",
      "execution_count": 15,
      "metadata": {
        "id": "d7deb7df",
        "colab": {
          "base_uri": "https://localhost:8080/",
          "height": 302
        },
        "outputId": "414f1472-ccba-41a6-f6cf-64b1830b1c30"
      },
      "outputs": [
        {
          "output_type": "display_data",
          "data": {
            "text/plain": [
              "<Figure size 800x500 with 10 Axes>"
            ],
            "image/png": "[encoded data removed]"
          },
          "metadata": {}
        }
      ],
      "source": [
        "BATCH_SIZE = 10\n",
        "plt.figure(figsize=(8, 5))\n",
        "for images, labels in train_set.take(1):\n",
        "   for i in range(BATCH_SIZE):\n",
        "    indx = random.randint(0, len(images))\n",
        "    ax = plt.subplot(3, 5, i + 1)\n",
        "    plt.imshow(images[i].numpy().astype('uint8'))\n",
        "    plt.title(train_data.class_names[labels[i]], color= 'blue', fontsize= 12)\n",
        "    plt.axis(False)\n",
        "plt.show()"
      ]
    },
    {
      "cell_type": "markdown",
      "metadata": {
        "id": "f57e1b52"
      },
      "source": [
        "# <p style=\"background-color:green;font-family:newtimeroman;color:black;font-size:150%;text-align:center;border-radius:10px 10px;\">Build Model</p>"
      ]
    },
    {
      "cell_type": "markdown",
      "metadata": {
        "id": "173a81f4"
      },
      "source": [
        "> ##  Model with 5 epochs\n"
      ]
    },
    {
      "cell_type": "code",
      "execution_count": 16,
      "metadata": {
        "id": "LRfx4WBgPRTJ",
        "colab": {
          "base_uri": "https://localhost:8080/"
        },
        "outputId": "c5c8dd03-c532-40f6-edc1-7cfa70381040"
      },
      "outputs": [
        {
          "output_type": "stream",
          "name": "stdout",
          "text": [
            "(32, 256, 256, 3)\n",
            "(32,)\n"
          ]
        }
      ],
      "source": [
        "for images_batch, labels_batch in train_set:\n",
        "    print(images_batch.shape)\n",
        "    print(labels_batch.shape)\n",
        "    break"
      ]
    },
    {
      "cell_type": "code",
      "execution_count": 17,
      "metadata": {
        "id": "qYTX6CkSPRTJ"
      },
      "outputs": [],
      "source": [
        "from tensorflow.keras import layers"
      ]
    },
    {
      "cell_type": "code",
      "execution_count": null,
      "metadata": {
        "id": "czkgrUJHPRTJ",
        "colab": {
          "base_uri": "https://localhost:8080/"
        },
        "outputId": "58686a42-b2d0-4746-f530-30c562eb3fec"
      },
      "outputs": [
        {
          "output_type": "stream",
          "name": "stdout",
          "text": [
            "Epoch 1/5\n",
            "  90/1500 [>.............................] - ETA: 2:17:33 - loss: 1.8905 - accuracy: 0.8222"
          ]
        }
      ],
      "source": [
        "tf.random.set_seed(42)\n",
        "\n",
        "cnn_1 = keras.Sequential([\n",
        "    layers.Rescaling(1./255),\n",
        "    layers.Conv2D(filters = 32, kernel_size = 3, activation = 'relu'),\n",
        "    layers.MaxPooling2D(pool_size = 2),\n",
        "    layers.Flatten(),\n",
        "    layers.Dense(500, activation = 'relu'),\n",
        "    layers.Dense(5, activation = 'sigmoid')\n",
        "])\n",
        "\n",
        "cnn_1.compile(\n",
        "    loss = keras.losses.SparseCategoricalCrossentropy(),\n",
        "    optimizer = keras.optimizers.Adam(),\n",
        "    metrics = 'accuracy'\n",
        ")\n",
        "\n",
        "history_1 = cnn_1.fit(train_set, epochs = 5, validation_data = val_set)"
      ]
    },
    {
      "cell_type": "code",
      "execution_count": null,
      "metadata": {
        "id": "EzT5ywQvPRTJ"
      },
      "outputs": [],
      "source": [
        "cnn_1.summary()"
      ]
    },
    {
      "cell_type": "markdown",
      "metadata": {
        "id": "N-4Fpu8yPRTK"
      },
      "source": [
        "# <p style=\"background-color:green;font-family:newtimeroman;color:black;font-size:150%;text-align:center;border-radius:10px 10px;\">Evaluation</p>"
      ]
    },
    {
      "cell_type": "code",
      "execution_count": null,
      "metadata": {
        "id": "abceace8"
      },
      "outputs": [],
      "source": [
        "def plot_training_curves(history_df):\n",
        "    plt.figure(figsize = (13, 4), dpi = 120)\n",
        "    ax = plt.subplot(1, 2, 1)\n",
        "    plt.plot(range(1, len(history_df) + 1), history_df['loss'], marker = '.', label = 'Training Loss')\n",
        "    plt.plot(range(1, len(history_df) + 1), history_df['val_loss'], marker = '^', label = 'Validation Loss')\n",
        "    plt.xlabel('Epoch')\n",
        "    plt.ylabel('Cross Entropy')\n",
        "    plt.grid()\n",
        "    plt.legend()\n",
        "    ax = plt.subplot(1, 2, 2)\n",
        "    plt.plot(range(1, len(history_df) + 1), history_df['accuracy'], marker = '.', label = 'Training Accuracy')\n",
        "    plt.plot(range(1, len(history_df) + 1), history_df['val_accuracy'], marker = '^', label = 'Validation Accurcay')\n",
        "    plt.xlabel('Epoch')\n",
        "    plt.ylabel('Accuracy')\n",
        "    plt.grid()\n",
        "    plt.legend()\n",
        "    plt.show()"
      ]
    },
    {
      "cell_type": "code",
      "execution_count": null,
      "metadata": {
        "id": "zgbYdcx-7NG5"
      },
      "outputs": [],
      "source": [
        "plot_training_curves(pd.DataFrame(history_1.history))"
      ]
    },
    {
      "cell_type": "code",
      "execution_count": null,
      "metadata": {
        "id": "gdKPGAV-PRTK"
      },
      "outputs": [],
      "source": [
        "X_test, y_test = None, None\n",
        "for images, labels in test_data.take(100):\n",
        "    if X_test == None or y_test == None:\n",
        "        X_test = images\n",
        "        y_test = labels\n",
        "    else:\n",
        "        X_test = tf.concat([X_test, images], axis = 0)\n",
        "        y_test = tf.concat([y_test, labels], axis = 0)\n",
        "\n",
        "X_test.shape, y_test.shape"
      ]
    },
    {
      "cell_type": "code",
      "execution_count": null,
      "metadata": {
        "id": "Nf76g4dG-30d"
      },
      "outputs": [],
      "source": [
        "from sklearn import metrics\n",
        "y_pred_proba = cnn_1.predict(X_test)\n",
        "y_pred = np.argmax(y_pred_proba, axis = 1)"
      ]
    },
    {
      "cell_type": "code",
      "execution_count": null,
      "metadata": {
        "id": "aysW9z9_rfy4"
      },
      "outputs": [],
      "source": [
        "metrics.accuracy_score(y_test, y_pred)"
      ]
    },
    {
      "cell_type": "code",
      "execution_count": null,
      "metadata": {
        "id": "mN206fxCPRTL"
      },
      "outputs": [],
      "source": [
        "train_score = cnn_1.evaluate(train_data, verbose= 1)\n",
        "test_score = cnn_1.evaluate(test_data, verbose= 1)\n",
        "print(\"Train Loss: \", train_score[0])\n",
        "print(\"Train Accuracy: \", train_score[1])\n",
        "print('*****************************')\n",
        "print(\"Test Loss: \", test_score[0])\n",
        "print(\"Test Accuracy: \", test_score[1])"
      ]
    },
    {
      "cell_type": "code",
      "execution_count": null,
      "metadata": {
        "id": "gytPdP-aABRH"
      },
      "outputs": [],
      "source": [
        "from sklearn.metrics import classification_report\n",
        "target_names = ['Arborio', 'Basmati', 'Ipsala', 'Jasmine', 'Karacadag']\n",
        "print(classification_report(y_test , y_pred, target_names=target_names))"
      ]
    },
    {
      "cell_type": "code",
      "execution_count": null,
      "metadata": {
        "id": "c1k0O96N-3hr"
      },
      "outputs": [],
      "source": [
        "import seaborn as sns\n",
        "plt.figure(figsize = (6,6), dpi = 100)\n",
        "sns.heatmap(metrics.confusion_matrix(y_test, y_pred), annot = True, cmap = 'Greens')\n",
        "plt.xlabel('Predictions')\n",
        "plt.ylabel('True Labels')\n",
        "plt.title('Conusion Matrix')\n",
        "plt.show()"
      ]
    },
    {
      "cell_type": "code",
      "execution_count": null,
      "metadata": {
        "id": "mmIcwAHFPRTL"
      },
      "outputs": [],
      "source": [
        "# plot random images from a given dataset, and compare predictions with ground truth\n",
        "def plot_random_predictions(dataset, model):\n",
        "\n",
        "    shuffled_data = dataset.shuffle(10)\n",
        "    class_names = dataset.class_names\n",
        "\n",
        "    for images, labels in shuffled_data.take(1):\n",
        "        plt.figure(figsize = (8, 8), dpi = 120)\n",
        "        y_pred_proba = model.predict(images)\n",
        "\n",
        "    for i in range(9):\n",
        "        index = random.randint(0, len(images))\n",
        "        ax = plt.subplot(3,3, i + 1)\n",
        "\n",
        "        img = images[index].numpy().astype(\"uint8\")\n",
        "        y_true = class_names[labels[index]]\n",
        "        y_pred = class_names[np.argmax(y_pred_proba[index], axis = 0)]\n",
        "\n",
        "        c = 'g' if y_pred == y_true else 'r'\n",
        "\n",
        "        plt.imshow(img)\n",
        "        plt.title(f'Predicted : {y_pred}\\nTrue label : {y_true}', c = c)\n",
        "        plt.axis(False)"
      ]
    },
    {
      "cell_type": "code",
      "execution_count": null,
      "metadata": {
        "id": "8anOfGWoPRTM"
      },
      "outputs": [],
      "source": [
        "plot_random_predictions(test_data, cnn_1)"
      ]
    },
    {
      "cell_type": "markdown",
      "metadata": {
        "id": "GwiGCsldPRTM"
      },
      "source": [
        "# <p style=\"background-color:green;font-family:newtimeroman;color:black;font-size:150%;text-align:center;border-radius:10px 10px;\">End</p>"
      ]
    },
    {
      "cell_type": "code",
      "execution_count": null,
      "metadata": {
        "id": "3gN2J_OgPRTM"
      },
      "outputs": [],
      "source": []
    }
  ],
  "metadata": {
    "colab": {
      "provenance": [],
      "gpuType": "T4",
      "cell_execution_strategy": "setup",
      "include_colab_link": true
    },
    "kernelspec": {
      "display_name": "Python 3",
      "name": "python3"
    },
    "language_info": {
      "codemirror_mode": {
        "name": "ipython",
        "version": 3
      },
      "file_extension": ".py",
      "mimetype": "text/x-python",
      "name": "python",
      "nbconvert_exporter": "python",
      "pygments_lexer": "ipython3",
      "version": "3.6.4"
    },
    "accelerator": "GPU"
  },
  "nbformat": 4,
  "nbformat_minor": 0
}